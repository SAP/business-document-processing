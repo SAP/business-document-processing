{
 "cells": [
  {
   "cell_type": "markdown",
   "metadata": {},
   "source": [
    "# Document Information Extraction Showcase"
   ]
  },
  {
   "cell_type": "markdown",
   "metadata": {},
   "source": [
    "This notebook is designed to demonstrate how to easily consume the SAP AI Business Services - Document Information Extraction service. In this demo, we first create a new client to then use the service to extract data from an example invoice."
   ]
  },
  {
   "cell_type": "markdown",
   "metadata": {},
   "source": [
    "## Extract credentials from service key"
   ]
  },
  {
   "cell_type": "markdown",
   "metadata": {},
   "source": [
    "You require a valid service key for the Document Information Extraction service on the SAP Business Technology Platform. For the detailed setup steps see: https://help.sap.com/viewer/5fa7265b9ff64d73bac7cec61ee55ae6/SHIP/en-US/0d68dc0002f0484ba25f85f3170166e0.html "
   ]
  },
  {
   "cell_type": "markdown",
   "metadata": {},
   "source": [
    "The necessary credentials are the following:\n",
    "\n",
    "- url: The URL of the service deployment provided in the outermost hierarchy of the service key json file\n",
    "- uaa_url: The URL of the UAA server used for authentication provided in the uaa part of the service key json file\n",
    "- clientid: The clientid used for authentication to the UAA server provided in the uaa part of the service key json file\n",
    "- clientsecret: The clientsecret used for authentication to the UAA server provided in the uaa part of the service key json file"
   ]
  },
  {
   "cell_type": "code",
   "execution_count": null,
   "metadata": {},
   "outputs": [],
   "source": [
    "# Please insert your copied service key json here\n",
    "service_key = {\n",
    "  \"url\": \"*******\",\n",
    "  \"uaa\": {\n",
    "    \"tenantmode\": \"*******\",\n",
    "    \"sburl\": \"*******\",\n",
    "    \"subaccountid\": \"*******\",\n",
    "    \"clientid\": \"*******\",\n",
    "    \"xsappname\": \"*******\",\n",
    "    \"clientsecret\": \"*******\",\n",
    "    \"url\": \"*******\",\n",
    "    \"uaadomain\": \"*******\",\n",
    "    \"verificationkey\": \"*******\",\n",
    "    \"apiurl\": \"*******\",\n",
    "    \"identityzone\": \"*******\",\n",
    "    \"identityzoneid\": \"*******\",\n",
    "    \"tenantid\": \"*******\",\n",
    "    \"zoneid\": \"*******\"\n",
    "  },\n",
    "  \"swagger\": \"/document-information-extraction/v1/\"\n",
    "}\n",
    "url = service_key['url']\n",
    "uaa_url = service_key['uaa']['url']\n",
    "client_id = service_key['uaa']['clientid']\n",
    "client_secret = service_key['uaa']['clientsecret']"
   ]
  },
  {
   "cell_type": "markdown",
   "metadata": {},
   "source": [
    "## Initialize DoxApiClient"
   ]
  },
  {
   "cell_type": "code",
   "execution_count": null,
   "metadata": {},
   "outputs": [],
   "source": [
    "# Import DOX API client\n",
    "from sap_business_document_processing import DoxApiClient"
   ]
  },
  {
   "cell_type": "code",
   "execution_count": null,
   "metadata": {},
   "outputs": [],
   "source": [
    "# Instantiate object used to communicate with Document Information Extraction REST API\n",
    "api_client = DoxApiClient(url, client_id, client_secret, uaa_url)"
   ]
  },
  {
   "cell_type": "markdown",
   "metadata": {},
   "source": [
    "## (optional) Display access token"
   ]
  },
  {
   "cell_type": "code",
   "execution_count": null,
   "metadata": {},
   "outputs": [],
   "source": [
    "# Token can be used to interact with e.g. swagger UI to explore DOX API\n",
    "print(api_client.session.token)\n",
    "print(f\"\\nYou can use this token to authorize here and explore the API via Swagger UI: \\n{api_client.base_url}\")"
   ]
  },
  {
   "cell_type": "markdown",
   "metadata": {},
   "source": [
    "## See list of document fields you can extract"
   ]
  },
  {
   "cell_type": "code",
   "execution_count": null,
   "metadata": {},
   "outputs": [],
   "source": [
    "# Get the available document types and corresponding extraction fields\n",
    "from utils import display_capabilities\n",
    "capabilities = api_client.get_capabilities()\n",
    "display_capabilities(capabilities)"
   ]
  },
  {
   "cell_type": "markdown",
   "metadata": {},
   "source": [
    "## (optional) Create a Client"
   ]
  },
  {
   "cell_type": "markdown",
   "metadata": {},
   "source": [
    "To use Document Information Extraction, you need a client. This client is used to distinguish and separate data. You can create a new client if you wish to perform the information extraction with a separate client. One 'default' client already exists."
   ]
  },
  {
   "cell_type": "code",
   "execution_count": null,
   "metadata": {
    "scrolled": true
   },
   "outputs": [],
   "source": [
    "# Check which clients exist for this tenant\n",
    "api_client.get_clients()"
   ]
  },
  {
   "cell_type": "code",
   "execution_count": null,
   "metadata": {
    "scrolled": false
   },
   "outputs": [],
   "source": [
    "# Create a new client with the id 'c_00' and name 'Client 00'\n",
    "api_client.create_client(client_id='c_00', client_name='Client 00')"
   ]
  },
  {
   "cell_type": "markdown",
   "metadata": {},
   "source": [
    "## Upload a document and retrieve the extracted result"
   ]
  },
  {
   "cell_type": "code",
   "execution_count": null,
   "metadata": {},
   "outputs": [],
   "source": [
    "# The constants provide supported content types that can be imported, e.g. for PDF, PNG, JPEG or TIFF files as well as the\n",
    "# CONTENT_TYPE_UNKNOWN that lets the library fetch the content type automatically based on the file's extension\n",
    "from sap_business_document_processing.document_information_extraction_client.constants import CONTENT_TYPE_PDF\n",
    "\n",
    "# Specify the fields that should be extracted\n",
    "header_fields = [\n",
    "         \"documentNumber\",\n",
    "         \"taxId\",\n",
    "         \"purchaseOrderNumber\", \n",
    "         \"shippingAmount\",\n",
    "         \"netAmount\",\n",
    "         \"senderAddress\",\n",
    "         \"senderName\",\n",
    "         \"grossAmount\",\n",
    "         \"currencyCode\",\n",
    "         \"receiverContact\",\n",
    "         \"documentDate\",\n",
    "         \"taxAmount\",\n",
    "         \"taxRate\",\n",
    "         \"receiverName\",\n",
    "         \"receiverAddress\"\n",
    "    ]\n",
    "line_item_fields = [\n",
    "         \"description\",\n",
    "         \"netAmount\",\n",
    "         \"quantity\",\n",
    "         \"unitPrice\",\n",
    "         \"materialNumber\"\n",
    "    ]\n",
    "\n",
    "# Extract information from invoice document\n",
    "document_result = api_client.extract_information_from_document(document_path='sample-invoice-1.pdf', \n",
    "                                                               client_id='default', \n",
    "                                                               document_type='invoice', \n",
    "                                                               mime_type=CONTENT_TYPE_PDF, \n",
    "                                                               header_fields=header_fields, \n",
    "                                                               line_item_fields=line_item_fields)"
   ]
  },
  {
   "cell_type": "code",
   "execution_count": null,
   "metadata": {
    "scrolled": true
   },
   "outputs": [],
   "source": [
    "# Check the extracted data\n",
    "import json\n",
    "print(json.dumps(document_result, indent=2))"
   ]
  },
  {
   "cell_type": "code",
   "execution_count": null,
   "metadata": {
    "scrolled": false
   },
   "outputs": [],
   "source": [
    "# Let's visualize the extracted values on the invoice document\n",
    "from utils import display_extraction\n",
    "display_extraction(document_result, 'sample-invoice-1.pdf')"
   ]
  },
  {
   "cell_type": "markdown",
   "metadata": {},
   "source": [
    "## (optional) Upload Ground Truth"
   ]
  },
  {
   "cell_type": "markdown",
   "metadata": {},
   "source": [
    "Ground truth values can be uploaded to evaluate the results of the Document Information Extraction"
   ]
  },
  {
   "cell_type": "code",
   "execution_count": null,
   "metadata": {},
   "outputs": [],
   "source": [
    "# Load ground truth values from json file\n",
    "with open('gt-sample-invoice-1.json') as ground_truth_file:\n",
    "    ground_truth = json.load(ground_truth_file)"
   ]
  },
  {
   "cell_type": "code",
   "execution_count": null,
   "metadata": {},
   "outputs": [],
   "source": [
    "# Add ground truth values to the uploaded invoice\n",
    "api_client.post_ground_truth_for_document(document_id=document_result['id'], ground_truth=ground_truth)"
   ]
  },
  {
   "cell_type": "code",
   "execution_count": null,
   "metadata": {},
   "outputs": [],
   "source": [
    "# You can now also retrieve the uploaded ground truth values by setting extracted_values to False\n",
    "api_client.get_extraction_for_document(document_id=document_result['id'], extracted_values=False)"
   ]
  },
  {
   "cell_type": "code",
   "execution_count": null,
   "metadata": {},
   "outputs": [],
   "source": []
  }
 ],
 "metadata": {
  "kernelspec": {
   "display_name": "Python 3",
   "language": "python",
   "name": "python3"
  },
  "language_info": {
   "codemirror_mode": {
    "name": "ipython",
    "version": 3
   },
   "file_extension": ".py",
   "mimetype": "text/x-python",
   "name": "python",
   "nbconvert_exporter": "python",
   "pygments_lexer": "ipython3",
   "version": "3.8.3"
  },
  "pycharm": {
   "stem_cell": {
    "cell_type": "raw",
    "source": [],
    "metadata": {
     "collapsed": false
    }
   }
  }
 },
 "nbformat": 4,
 "nbformat_minor": 4
}
